{
    "cells": [
        {
            "cell_type": "markdown",
            "id": "ac622319",
            "metadata": {},
            "source": [
                "# Descriptive statistics problems"
            ]
        },
        {
            "cell_type": "markdown",
            "id": "aa8993e4",
            "metadata": {},
            "source": [
                "### Exercise 1"
            ]
        },
        {
            "cell_type": "markdown",
            "id": "5e0ab0d5",
            "metadata": {},
            "source": [
                "We will use Numpy to obtain information to describe statistically.\n",
                "\n",
                "- Generate an array of 100 elements following a normal distribution.\n",
                "- Generate an array of 100 elements following a chi-square distribution with 3 degrees of freedom.\n",
                "- Calculate the main metrics and statistical measures that best describe the two vectors."
            ]
        },
        {
            "cell_type": "code",
            "execution_count": 8,
            "id": "34720ab6",
            "metadata": {},
            "outputs": [
                {
                    "name": "stdout",
                    "output_type": "stream",
                    "text": [
                        "Statistical measures for the normal distribution array:\n",
                        "Mean: -0.024281510636193417\n",
                        "Standard Deviation: 0.9108293966714777\n",
                        "Variance: 0.829610189840928\n",
                        "Median: 0.03769039235490632\n",
                        "Minimum: -2.3343645161958606\n",
                        "Maximum: 2.1511151671065485\n",
                        "Skewness: -0.0556014488216983\n",
                        "Kurtosis: -0.4888422187453756\n",
                        "\n",
                        "Statistical measures for the chi-square distribution array:\n",
                        "Mean: 2.7084773796499326\n",
                        "Standard Deviation: 2.0849861274322707\n",
                        "Variance: 4.347167151585017\n",
                        "Median: 2.2068889590414216\n",
                        "Minimum: 0.06610780931235735\n",
                        "Maximum: 9.083754234165662\n",
                        "Skewness: 0.9522016584497756\n",
                        "Kurtosis: 0.11111974502938393\n"
                    ]
                }
            ],
            "source": [
                "import numpy as np\n",
                "from scipy.stats import skew, kurtosis\n",
                "\n",
                "\n",
                "# Generate an array of 100 elements following a normal distribution\n",
                "mean_normal = 0  # Mean\n",
                "std_dev_normal = 1  # Standard Deviation\n",
                "array_normal = np.random.normal(mean_normal, std_dev_normal, 100)\n",
                "\n",
                "# Generate an array of 100 elements following a chi-square distribution with 3 degrees of freedom\n",
                "degrees_of_freedom = 3\n",
                "array_chi_square = np.random.chisquare(degrees_of_freedom, 100)\n",
                "\n",
                "# Calculate main statistical measures for the normal distribution array\n",
                "mean_normal_dist = np.mean(array_normal)  # Mean\n",
                "std_dev_normal_dist = np.std(array_normal)  # Standard Deviation\n",
                "variance_normal_dist = np.var(array_normal)  # Variance\n",
                "median_normal_dist = np.median(array_normal)  # Median\n",
                "min_normal_dist = np.min(array_normal)  # Minimum\n",
                "max_normal_dist = np.max(array_normal)  # Maximum\n",
                "skew_normal_dist = skew(array_normal)  # Skewness\n",
                "kurt_normal_dist = kurtosis(array_normal) # Kurtosis\n",
                "\n",
                "# Calculate main statistical measures for the chi-square distribution array\n",
                "mean_chi_square_dist = np.mean(array_chi_square)  # Mean\n",
                "std_dev_chi_square_dist = np.std(array_chi_square)  # Standard Deviation\n",
                "variance_chi_square_dist = np.var(array_chi_square)  # Variance\n",
                "median_chi_square_dist = np.median(array_chi_square)  # Median\n",
                "min_chi_square_dist = np.min(array_chi_square)  # Minimum\n",
                "max_chi_square_dist = np.max(array_chi_square)  # Maximum\n",
                "skew_chi_dist = skew(array_chi_square)  # Skewness\n",
                "kurt_chi_dist = kurtosis(array_chi_square) # Kurtosis\n",
                "\n",
                "# Print the results\n",
                "print(\"Statistical measures for the normal distribution array:\")\n",
                "print(\"Mean:\", mean_normal_dist)\n",
                "print(\"Standard Deviation:\", std_dev_normal_dist)\n",
                "print(\"Variance:\", variance_normal_dist)\n",
                "print(\"Median:\", median_normal_dist)\n",
                "print(\"Minimum:\", min_normal_dist)\n",
                "print(\"Maximum:\", max_normal_dist)\n",
                "print(\"Skewness:\", skew_normal_dist)\n",
                "print(\"Kurtosis:\", kurt_normal_dist)\n",
                "\n",
                "print(\"\\nStatistical measures for the chi-square distribution array:\")\n",
                "print(\"Mean:\", mean_chi_square_dist)\n",
                "print(\"Standard Deviation:\", std_dev_chi_square_dist)\n",
                "print(\"Variance:\", variance_chi_square_dist)\n",
                "print(\"Median:\", median_chi_square_dist)\n",
                "print(\"Minimum:\", min_chi_square_dist)\n",
                "print(\"Maximum:\", max_chi_square_dist)\n",
                "print(\"Skewness:\", skew_chi_dist)\n",
                "print(\"Kurtosis:\", kurt_chi_dist)\n"
            ]
        },
        {
            "cell_type": "markdown",
            "id": "46c70c3d",
            "metadata": {},
            "source": [
                "### Exercise 2\n",
                "\n",
                "Write a Python program to calculate the standard deviation of the following data:\n",
                "\n",
                "```py\n",
                "data = [4, 2, 5, 8, 6]\n",
                "```"
            ]
        },
        {
            "cell_type": "code",
            "execution_count": 9,
            "id": "d590308e",
            "metadata": {},
            "outputs": [
                {
                    "name": "stdout",
                    "output_type": "stream",
                    "text": [
                        "Standard Deviation (using statistics module): 2.23606797749979\n"
                    ]
                }
            ],
            "source": [
                "import statistics\n",
                "\n",
                "data = [4, 2, 5, 8, 6]\n",
                "\n",
                "# Calculate the standard deviation\n",
                "std_dev = statistics.stdev(data)\n",
                "\n",
                "print(\"Standard Deviation (using statistics module):\", std_dev)\n"
            ]
        }
    ],
    "metadata": {
        "interpreter": {
            "hash": "9248718ffe6ce6938b217e69dbcc175ea21f4c6b28a317e96c05334edae734bb"
        },
        "kernelspec": {
            "display_name": "Python 3.9.12 ('ML-BOOTCAMP')",
            "language": "python",
            "name": "python3"
        },
        "language_info": {
            "codemirror_mode": {
                "name": "ipython",
                "version": 3
            },
            "file_extension": ".py",
            "mimetype": "text/x-python",
            "name": "python",
            "nbconvert_exporter": "python",
            "pygments_lexer": "ipython3",
            "version": "3.11.4"
        }
    },
    "nbformat": 4,
    "nbformat_minor": 5
}
